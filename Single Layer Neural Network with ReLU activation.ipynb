{
 "cells": [
  {
   "cell_type": "markdown",
   "metadata": {},
   "source": [
    "# Iris Dataset - Single Layer Neural Network with ReLU activation\n",
    "#### Prepared by Hansel Wei for 4010 Deep Learning w/ Tensorflow"
   ]
  },
  {
   "cell_type": "markdown",
   "metadata": {},
   "source": [
    "## Setup"
   ]
  },
  {
   "cell_type": "code",
   "execution_count": 1,
   "metadata": {},
   "outputs": [],
   "source": [
    "import tensorflow as tf\n",
    "import numpy as np\n",
    "from sklearn import datasets\n",
    "from sklearn.model_selection import train_test_split\n",
    "from sklearn.datasets import load_iris\n",
    "\n",
    "RANDOM_SEED = 42\n",
    "tf.set_random_seed(RANDOM_SEED)"
   ]
  },
  {
   "cell_type": "code",
   "execution_count": 2,
   "metadata": {
    "collapsed": true
   },
   "outputs": [],
   "source": [
    "# To plot pretty figures\n",
    "%matplotlib inline\n",
    "import matplotlib\n",
    "import matplotlib.pyplot as plt\n",
    "plt.rcParams['axes.labelsize'] = 14\n",
    "plt.rcParams['xtick.labelsize'] = 12\n",
    "plt.rcParams['ytick.labelsize'] = 12\n",
    "\n",
    "# Where to save the figures\n",
    "PROJECT_ROOT_DIR = \".\"\n",
    "\n",
    "def save_fig(fig_id, tight_layout=True):\n",
    "    path = os.path.join(PROJECT_ROOT_DIR, fig_id + \".png\")\n",
    "    print(\"Saving figure\", fig_id)\n",
    "    if tight_layout:\n",
    "        plt.tight_layout()\n",
    "    plt.savefig(path, format='png', dpi=300)\n",
    "    \n",
    "def reset_graph(seed=RANDOM_SEED):\n",
    "    tf.reset_default_graph()\n",
    "    tf.set_random_seed(seed)\n",
    "    np.random.seed(seed)"
   ]
  },
  {
   "cell_type": "markdown",
   "metadata": {},
   "source": [
    "# Function to Load Iris Data"
   ]
  },
  {
   "cell_type": "code",
   "execution_count": 3,
   "metadata": {
    "collapsed": true
   },
   "outputs": [],
   "source": [
    "def get_iris_data():\n",
    "    # load iris data\n",
    "    iris   = datasets.load_iris()\n",
    "    data   = iris[\"data\"]\n",
    "    target = iris[\"target\"]\n",
    "\n",
    "    # Prepend the column of 1s for bias\n",
    "    N, M  = data.shape\n",
    "    all_X = np.ones((N, M + 1))\n",
    "    all_X[:, 1:] = data\n",
    "\n",
    "    # Convert into one-hot vectors (converts categorical data to integer data)\n",
    "    num_labels = len(np.unique(target))\n",
    "    \n",
    "    # Return a 2-D array with ones on the diagonal and zeros elsewhere.\n",
    "    all_Y = np.eye(num_labels)[target]  \n",
    "    return train_test_split(all_X, all_Y, test_size=0.33, random_state=RANDOM_SEED)"
   ]
  },
  {
   "cell_type": "markdown",
   "metadata": {},
   "source": [
    "# Perceptron"
   ]
  },
  {
   "cell_type": "code",
   "execution_count": 4,
   "metadata": {
    "collapsed": true
   },
   "outputs": [],
   "source": [
    "import os  # imports the os\n",
    "from sklearn.linear_model import Perceptron\n",
    "\n",
    "iris = load_iris()\n",
    "X = iris.data[:, (2, 3)]  # petal length, petal width\n",
    "y = (iris.target == 0).astype(np.int)\n",
    "\n",
    "per_clf = Perceptron(random_state=42, max_iter=1000)\n",
    "per_clf.fit(X, y)\n",
    "\n",
    "y_pred = per_clf.predict([[2, 0.5]])"
   ]
  },
  {
   "cell_type": "code",
   "execution_count": 5,
   "metadata": {},
   "outputs": [
    {
     "name": "stdout",
     "output_type": "stream",
     "text": [
      "Saving figure perceptron_iris_plot\n"
     ]
    },
    {
     "data": {
      "image/png": "[encoded data removed]",
      "text/plain": [
       "<matplotlib.figure.Figure at 0x7f22e3484128>"
      ]
     },
     "metadata": {},
     "output_type": "display_data"
    }
   ],
   "source": [
    "a = -per_clf.coef_[0][0] / per_clf.coef_[0][1]\n",
    "b = -per_clf.intercept_ / per_clf.coef_[0][1]\n",
    "\n",
    "axes = [0, 5, 0, 2]\n",
    "\n",
    "x0, x1 = np.meshgrid(\n",
    "        np.linspace(axes[0], axes[1], 500).reshape(-1, 1),\n",
    "        np.linspace(axes[2], axes[3], 200).reshape(-1, 1),\n",
    "    ) # creates the meshgrid\n",
    "X_new = np.c_[x0.ravel(), x1.ravel()]\n",
    "y_predict = per_clf.predict(X_new)\n",
    "zz = y_predict.reshape(x0.shape)\n",
    "\n",
    "plt.figure(figsize=(10, 4))\n",
    "plt.plot(X[y==0, 0], X[y==0, 1], \"bs\", label=\"Not Iris-Setosa\")\n",
    "plt.plot(X[y==1, 0], X[y==1, 1], \"yo\", label=\"Iris-Setosa\")\n",
    "\n",
    "plt.plot([axes[0], axes[1]], [a * axes[0] + b, a * axes[1] + b], \"k-\")\n",
    "from matplotlib.colors import ListedColormap\n",
    "custom_cmap = ListedColormap(['#9898ff', '#fafab0'])\n",
    "\n",
    "plt.contourf(x0, x1, zz, cmap=custom_cmap)\n",
    "plt.xlabel(\"Petal length\", fontsize=14)\n",
    "plt.ylabel(\"Petal width\", fontsize=14)\n",
    "plt.legend(loc=\"lower right\", fontsize=14)\n",
    "plt.axis(axes)\n",
    "\n",
    "save_fig(\"perceptron_iris_plot\")\n",
    "plt.show()"
   ]
  },
  {
   "cell_type": "markdown",
   "metadata": {},
   "source": [
    "# Function to create a neuron layer\n",
    "Unfortunately this has been deprecated due to getshape() not being a thing anymore so, moving on!"
   ]
  },
  {
   "cell_type": "code",
   "execution_count": 6,
   "metadata": {
    "collapsed": true
   },
   "outputs": [],
   "source": [
    "# def neuron_layer(X, n_neurons, name, activation=None):\n",
    "#     with tf.name_scope(name):\n",
    "#         # get the number of inputs by getting the input shape\n",
    "#         n_inputs = int(tf.reshape(X.getshape()[1])\n",
    "#         # getting size of second dimension\n",
    "#         stdev = 2 / np.sqrt(n_inputs)\n",
    "#         # 2D tensor connecting weights between each \n",
    "#         init = tf.truncated_normal((n_inputs, n_nerons))\n",
    "#         # hold the weights (called the layer kernel)\n",
    "#         W = tf.Variable(init, name=\"kernel\")\n",
    "#         # creates bias initalized to 0\n",
    "#         b = tf.Variable(tf.zeros([n_neurons]), name=\"bias\")\n",
    "#         # weights of sums of the imputs plus the bias term for each and every neuron (Z = X * W + b) \n",
    "#         Z = tf.matmul(X, W) + b\n",
    "        \n",
    "#         if activation is not None:\n",
    "#             return activation(Z)\n",
    "#         else:\n",
    "#             return Z"
   ]
  },
  {
   "cell_type": "markdown",
   "metadata": {
    "collapsed": true
   },
   "source": [
    "# Using dense() instead of neuron_layer()"
   ]
  },
  {
   "cell_type": "code",
   "execution_count": 7,
   "metadata": {
    "collapsed": true
   },
   "outputs": [],
   "source": [
    "# init ndarrays from data\n",
    "train_X, test_X, train_y, test_y = get_iris_data()\n",
    "\n",
    "# Layer's sizes\n",
    "n_inputs = train_X.shape[1]   # Number of input nodes: 4 features and 1 bias\n",
    "n_hidden1 = 256                # Number of hidden nodes\n",
    "# n_hidden# able to create additonal layers here\n",
    "# n_hidden2 = 100\n",
    "n_outputs = train_y.shape[1]   # Number of outcomes (3 iris flowers)"
   ]
  },
  {
   "cell_type": "code",
   "execution_count": 8,
   "metadata": {},
   "outputs": [
    {
     "name": "stdout",
     "output_type": "stream",
     "text": [
      "Tensor(\"dnn/outputs/BiasAdd:0\", shape=(?, 3), dtype=float32)\n"
     ]
    }
   ],
   "source": [
    "reset_graph()\n",
    "\n",
    "# Symbols\n",
    "X = tf.placeholder(tf.float32, shape=(None, n_inputs), name=\"X\")\n",
    "y = tf.placeholder(tf.int32, shape=(None), name=\"y\")\n",
    "\n",
    "# Create neuron layers\n",
    "with tf.name_scope(\"dnn\"):\n",
    "#     hidden1 = neuron_layer(X, n_hidden1, name=\"hidden1\", activation=tf.nn.relu)\n",
    "    hidden1 = tf.layers.dense(X, n_hidden1, name=\"hidden1\",\n",
    "                              activation=tf.nn.relu)\n",
    "# hidden2 = tf.layers.dense(hidden1, n_hidden2, name=\"hidden2\", activation=tf.nn.relu)\n",
    "# logits = neuron_layer(hidden2, n_outputs, name=\"outputs\")\n",
    "# logits = tf.layers.dense(hidden2, n_outputs, name=\"outputs\")\n",
    "    logits = tf.layers.dense(hidden1, n_outputs, name=\"outputs\")\n",
    "    print(logits)"
   ]
  },
  {
   "cell_type": "code",
   "execution_count": 9,
   "metadata": {
    "collapsed": true
   },
   "outputs": [],
   "source": [
    "with tf.name_scope(\"loss\"):\n",
    "    xentropy = tf.nn.sparse_softmax_cross_entropy_with_logits(labels=y, logits=logits)\n",
    "    loss = tf.reduce_mean(xentropy, name=\"loss\")"
   ]
  },
  {
   "cell_type": "code",
   "execution_count": 10,
   "metadata": {
    "collapsed": true
   },
   "outputs": [],
   "source": [
    "learning_rate = 0.01\n",
    "\n",
    "with tf.name_scope(\"train\"):\n",
    "    optimizer = tf.train.GradientDescentOptimizer(learning_rate)\n",
    "    training_op = optimizer.minimize(loss)"
   ]
  },
  {
   "cell_type": "code",
   "execution_count": 11,
   "metadata": {
    "collapsed": true
   },
   "outputs": [],
   "source": [
    "with tf.name_scope(\"eval\"):\n",
    "    correct = tf.nn.in_top_k(logits, y, 1)\n",
    "    accuracy = tf.reduce_mean(tf.cast(correct, tf.float32))"
   ]
  },
  {
   "cell_type": "code",
   "execution_count": 12,
   "metadata": {
    "collapsed": true
   },
   "outputs": [],
   "source": [
    "init = tf.global_variables_initializer()\n",
    "saver = tf.train.Saver()"
   ]
  },
  {
   "cell_type": "code",
   "execution_count": 13,
   "metadata": {
    "collapsed": true
   },
   "outputs": [],
   "source": [
    "predict = tf.argmax(logits, axis=1)\n",
    "\n",
    "# Backward propagation\n",
    "cost    = tf.reduce_mean(tf.nn.softmax_cross_entropy_with_logits(labels=y, logits=logits))\n",
    "updates = tf.train.GradientDescentOptimizer(0.01).minimize(cost)"
   ]
  },
  {
   "cell_type": "markdown",
   "metadata": {},
   "source": [
    "# Train model"
   ]
  },
  {
   "cell_type": "code",
   "execution_count": 14,
   "metadata": {},
   "outputs": [
    {
     "name": "stdout",
     "output_type": "stream",
     "text": [
      "Epoch = 1, train accuracy = 65.00%, test accuracy = 70.00%\n",
      "Epoch = 2, train accuracy = 69.00%, test accuracy = 72.00%\n",
      "Epoch = 3, train accuracy = 78.00%, test accuracy = 82.00%\n",
      "Epoch = 4, train accuracy = 84.00%, test accuracy = 86.00%\n",
      "Epoch = 5, train accuracy = 90.00%, test accuracy = 92.00%\n",
      "Epoch = 6, train accuracy = 92.00%, test accuracy = 94.00%\n",
      "Epoch = 7, train accuracy = 92.00%, test accuracy = 96.00%\n",
      "Epoch = 8, train accuracy = 93.00%, test accuracy = 98.00%\n",
      "Epoch = 9, train accuracy = 93.00%, test accuracy = 98.00%\n",
      "Epoch = 10, train accuracy = 94.00%, test accuracy = 98.00%\n",
      "Epoch = 11, train accuracy = 94.00%, test accuracy = 98.00%\n",
      "Epoch = 12, train accuracy = 96.00%, test accuracy = 98.00%\n",
      "Epoch = 13, train accuracy = 96.00%, test accuracy = 98.00%\n",
      "Epoch = 14, train accuracy = 96.00%, test accuracy = 98.00%\n",
      "Epoch = 15, train accuracy = 96.00%, test accuracy = 98.00%\n",
      "Epoch = 16, train accuracy = 96.00%, test accuracy = 98.00%\n",
      "Epoch = 17, train accuracy = 96.00%, test accuracy = 98.00%\n",
      "Epoch = 18, train accuracy = 96.00%, test accuracy = 98.00%\n",
      "Epoch = 19, train accuracy = 96.00%, test accuracy = 98.00%\n",
      "Epoch = 20, train accuracy = 96.00%, test accuracy = 98.00%\n",
      "Epoch = 21, train accuracy = 96.00%, test accuracy = 98.00%\n",
      "Epoch = 22, train accuracy = 96.00%, test accuracy = 98.00%\n",
      "Epoch = 23, train accuracy = 96.00%, test accuracy = 98.00%\n",
      "Epoch = 24, train accuracy = 96.00%, test accuracy = 98.00%\n",
      "Epoch = 25, train accuracy = 96.00%, test accuracy = 98.00%\n",
      "Epoch = 26, train accuracy = 96.00%, test accuracy = 98.00%\n",
      "Epoch = 27, train accuracy = 96.00%, test accuracy = 98.00%\n",
      "Epoch = 28, train accuracy = 96.00%, test accuracy = 98.00%\n",
      "Epoch = 29, train accuracy = 97.00%, test accuracy = 98.00%\n",
      "Epoch = 30, train accuracy = 97.00%, test accuracy = 98.00%\n",
      "Epoch = 31, train accuracy = 97.00%, test accuracy = 98.00%\n",
      "Epoch = 32, train accuracy = 97.00%, test accuracy = 98.00%\n",
      "Epoch = 33, train accuracy = 97.00%, test accuracy = 98.00%\n",
      "Epoch = 34, train accuracy = 97.00%, test accuracy = 98.00%\n",
      "Epoch = 35, train accuracy = 97.00%, test accuracy = 98.00%\n",
      "Epoch = 36, train accuracy = 97.00%, test accuracy = 98.00%\n",
      "Epoch = 37, train accuracy = 97.00%, test accuracy = 98.00%\n",
      "Epoch = 38, train accuracy = 97.00%, test accuracy = 98.00%\n",
      "Epoch = 39, train accuracy = 97.00%, test accuracy = 98.00%\n",
      "Epoch = 40, train accuracy = 97.00%, test accuracy = 98.00%\n",
      "Epoch = 41, train accuracy = 97.00%, test accuracy = 98.00%\n",
      "Epoch = 42, train accuracy = 97.00%, test accuracy = 98.00%\n",
      "Epoch = 43, train accuracy = 97.00%, test accuracy = 98.00%\n",
      "Epoch = 44, train accuracy = 97.00%, test accuracy = 98.00%\n",
      "Epoch = 45, train accuracy = 97.00%, test accuracy = 98.00%\n",
      "Epoch = 46, train accuracy = 97.00%, test accuracy = 98.00%\n",
      "Epoch = 47, train accuracy = 97.00%, test accuracy = 98.00%\n",
      "Epoch = 48, train accuracy = 97.00%, test accuracy = 98.00%\n",
      "Epoch = 49, train accuracy = 97.00%, test accuracy = 98.00%\n",
      "Epoch = 50, train accuracy = 97.00%, test accuracy = 98.00%\n",
      "Epoch = 51, train accuracy = 97.00%, test accuracy = 98.00%\n",
      "Epoch = 52, train accuracy = 97.00%, test accuracy = 98.00%\n",
      "Epoch = 53, train accuracy = 97.00%, test accuracy = 98.00%\n",
      "Epoch = 54, train accuracy = 97.00%, test accuracy = 98.00%\n",
      "Epoch = 55, train accuracy = 97.00%, test accuracy = 98.00%\n",
      "Epoch = 56, train accuracy = 97.00%, test accuracy = 98.00%\n",
      "Epoch = 57, train accuracy = 97.00%, test accuracy = 98.00%\n",
      "Epoch = 58, train accuracy = 97.00%, test accuracy = 98.00%\n",
      "Epoch = 59, train accuracy = 97.00%, test accuracy = 98.00%\n",
      "Epoch = 60, train accuracy = 97.00%, test accuracy = 98.00%\n",
      "Epoch = 61, train accuracy = 97.00%, test accuracy = 98.00%\n",
      "Epoch = 62, train accuracy = 97.00%, test accuracy = 98.00%\n",
      "Epoch = 63, train accuracy = 97.00%, test accuracy = 98.00%\n",
      "Epoch = 64, train accuracy = 97.00%, test accuracy = 98.00%\n",
      "Epoch = 65, train accuracy = 97.00%, test accuracy = 98.00%\n",
      "Epoch = 66, train accuracy = 97.00%, test accuracy = 98.00%\n",
      "Epoch = 67, train accuracy = 97.00%, test accuracy = 98.00%\n",
      "Epoch = 68, train accuracy = 97.00%, test accuracy = 98.00%\n",
      "Epoch = 69, train accuracy = 97.00%, test accuracy = 98.00%\n",
      "Epoch = 70, train accuracy = 97.00%, test accuracy = 98.00%\n",
      "Epoch = 71, train accuracy = 97.00%, test accuracy = 98.00%\n",
      "Epoch = 72, train accuracy = 97.00%, test accuracy = 98.00%\n",
      "Epoch = 73, train accuracy = 97.00%, test accuracy = 98.00%\n",
      "Epoch = 74, train accuracy = 97.00%, test accuracy = 98.00%\n",
      "Epoch = 75, train accuracy = 97.00%, test accuracy = 98.00%\n",
      "Epoch = 76, train accuracy = 97.00%, test accuracy = 98.00%\n",
      "Epoch = 77, train accuracy = 98.00%, test accuracy = 98.00%\n",
      "Epoch = 78, train accuracy = 98.00%, test accuracy = 98.00%\n",
      "Epoch = 79, train accuracy = 98.00%, test accuracy = 98.00%\n",
      "Epoch = 80, train accuracy = 98.00%, test accuracy = 98.00%\n",
      "Epoch = 81, train accuracy = 98.00%, test accuracy = 98.00%\n",
      "Epoch = 82, train accuracy = 98.00%, test accuracy = 98.00%\n",
      "Epoch = 83, train accuracy = 98.00%, test accuracy = 98.00%\n",
      "Epoch = 84, train accuracy = 98.00%, test accuracy = 98.00%\n",
      "Epoch = 85, train accuracy = 98.00%, test accuracy = 98.00%\n",
      "Epoch = 86, train accuracy = 98.00%, test accuracy = 98.00%\n",
      "Epoch = 87, train accuracy = 98.00%, test accuracy = 98.00%\n",
      "Epoch = 88, train accuracy = 98.00%, test accuracy = 98.00%\n",
      "Epoch = 89, train accuracy = 98.00%, test accuracy = 98.00%\n",
      "Epoch = 90, train accuracy = 98.00%, test accuracy = 98.00%\n",
      "Epoch = 91, train accuracy = 98.00%, test accuracy = 98.00%\n",
      "Epoch = 92, train accuracy = 98.00%, test accuracy = 98.00%\n",
      "Epoch = 93, train accuracy = 98.00%, test accuracy = 98.00%\n",
      "Epoch = 94, train accuracy = 98.00%, test accuracy = 98.00%\n",
      "Epoch = 95, train accuracy = 98.00%, test accuracy = 98.00%\n",
      "Epoch = 96, train accuracy = 98.00%, test accuracy = 98.00%\n",
      "Epoch = 97, train accuracy = 98.00%, test accuracy = 98.00%\n",
      "Epoch = 98, train accuracy = 98.00%, test accuracy = 98.00%\n",
      "Epoch = 99, train accuracy = 98.00%, test accuracy = 98.00%\n",
      "Epoch = 100, train accuracy = 98.00%, test accuracy = 98.00%\n"
     ]
    }
   ],
   "source": [
    "sess = tf.Session()\n",
    "init = tf.global_variables_initializer()\n",
    "sess.run(init)\n",
    "\n",
    "for epoch in range(100):\n",
    "        # Train with each example\n",
    "        for i in range(len(train_X)):\n",
    "            sess.run(updates, feed_dict={X: train_X[i: i + 1], y: train_y[i: i + 1]})\n",
    "\n",
    "        train_accuracy = np.mean(np.argmax(train_y, axis=1) ==\n",
    "                                 sess.run(predict, feed_dict={X: train_X, y: train_y}))\n",
    "        test_accuracy  = np.mean(np.argmax(test_y, axis=1) ==\n",
    "                                 sess.run(predict, feed_dict={X: test_X, y: test_y}))\n",
    "\n",
    "        print(\"Epoch = %d, train accuracy = %.2f%%, test accuracy = %.2f%%\"\n",
    "              % (epoch + 1, 100. * train_accuracy, 100. * test_accuracy))\n",
    "\n",
    "sess.close()"
   ]
  },
  {
   "cell_type": "markdown",
   "metadata": {},
   "source": [
    "# Full Experiment"
   ]
  },
  {
   "cell_type": "code",
   "execution_count": 23,
   "metadata": {},
   "outputs": [
    {
     "ename": "SyntaxError",
     "evalue": "invalid syntax (<ipython-input-23-95660e6f5376>, line 72)",
     "output_type": "error",
     "traceback": [
      "\u001b[0;36m  File \u001b[0;32m\"<ipython-input-23-95660e6f5376>\"\u001b[0;36m, line \u001b[0;32m72\u001b[0m\n\u001b[0;31m    write_results(s)\u001b[0m\n\u001b[0m                ^\u001b[0m\n\u001b[0;31mSyntaxError\u001b[0m\u001b[0;31m:\u001b[0m invalid syntax\n"
     ]
    }
   ],
   "source": [
    "file=open(\"final_results.csv\", \"a\")\n",
    "file.write(\"Hidden Layers\\nEpoch\\ntrain accuracy\\ntest accuracy\")\n",
    "\n",
    "def write_results(s):\n",
    "    file=open(\"final_results.csv\", \"a\")\n",
    "    file.write(s + \"\\n\")\n",
    "\n",
    "# Experiment with layers 1 to 256\n",
    "for hidden_layer in range(1,257):\n",
    "    reset_graph()\n",
    "    \n",
    "    # init ndarrays from data\n",
    "    train_X, test_X, train_y, test_y = get_iris_data()\n",
    "\n",
    "    # Layer's sizes\n",
    "    n_inputs = train_X.shape[1]   # Number of input nodes: 4 features and 1 bias\n",
    "    n_hidden1 = hidden_layer       # Number of hidden nodes\n",
    "    n_outputs = train_y.shape[1]   # Number of outcomes (3 iris flowers)\n",
    "\n",
    "    # Symbols\n",
    "    X = tf.placeholder(tf.float32, shape=(None, n_inputs), name=\"X\")\n",
    "    y = tf.placeholder(tf.int32, shape=(None), name=\"y\")\n",
    "    \n",
    "    # Create neuron layers\n",
    "    with tf.name_scope(\"dnn\"):\n",
    "        hidden1 = tf.layers.dense(X, n_hidden1, name=\"hidden1\", activation=tf.nn.relu)\n",
    "        logits = tf.layers.dense(hidden1, n_outputs, name=\"outputs\")\n",
    "        print(logits)\n",
    "        sess = tf.Session()\n",
    "        init = tf.global_variables_initializer()\n",
    "        sess.run(init)\n",
    "    \n",
    "    # loss\n",
    "    with tf.name_scope(\"loss\"):\n",
    "        xentropy = tf.nn.sparse_softmax_cross_entropy_with_logits(labels=y, logits=logits)\n",
    "        loss = tf.reduce_mean(xentropy, name=\"loss\")\n",
    "    \n",
    "    # train\n",
    "    learning_rate = 0.01\n",
    "\n",
    "    with tf.name_scope(\"train\"):\n",
    "        optimizer = tf.train.GradientDescentOptimizer(learning_rate)\n",
    "        training_op = optimizer.minimize(loss)\n",
    "    \n",
    "    # evaluate\n",
    "    with tf.name_scope(\"eval\"):\n",
    "        correct = tf.nn.in_top_k(logits, y, 1)\n",
    "        accuracy = tf.reduce_mean(tf.cast(correct, tf.float32))\n",
    "    \n",
    "    init = tf.global_variables_initializer()\n",
    "    saver = tf.train.Saver()\n",
    "    \n",
    "    predict = tf.argmax(logits, axis=1)\n",
    "\n",
    "    # Backward propagation\n",
    "    cost    = tf.reduce_mean(tf.nn.softmax_cross_entropy_with_logits(labels=y, logits=logits))\n",
    "    updates = tf.train.GradientDescentOptimizer(0.01).minimize(cost)\n",
    "\n",
    "    for epoch in range(100):\n",
    "            # Train with each example\n",
    "            for i in range(len(train_X)):\n",
    "                sess.run(updates, feed_dict={X: train_X[i: i + 1], y: train_y[i: i + 1]})\n",
    "\n",
    "            train_accuracy = np.mean(np.argmax(train_y, axis=1) ==\n",
    "                                     sess.run(predict, feed_dict={X: train_X, y: train_y}))\n",
    "            test_accuracy  = np.mean(np.argmax(test_y, axis=1) ==\n",
    "                                     sess.run(predict, feed_dict={X: test_X, y: test_y}))\n",
    "\n",
    "            print(\"Hidden Layers = %d, Epoch = %d, train accuracy = %.2f%%, test accuracy = %.2f%%\"\n",
    "                  % (hidden_layer, epoch + 1, 100. * train_accuracy, 100. * test_accuracy))\n",
    "            s = str(\"%d,%d,%.2f%%,%.2f%%\"%(hidden_layer, epoch + 1, 100. * train_accuracy, 100. * test_accuracy) \n",
    "            write_results(s)\n",
    "    sess.close()\n",
    "    print(\"=\"*100)"
   ]
  },
  {
   "cell_type": "code",
   "execution_count": null,
   "metadata": {
    "collapsed": true
   },
   "outputs": [],
   "source": []
  }
 ],
 "metadata": {
  "kernelspec": {
   "display_name": "Python 3",
   "language": "python",
   "name": "python3"
  },
  "language_info": {
   "codemirror_mode": {
    "name": "ipython",
    "version": 3
   },
   "file_extension": ".py",
   "mimetype": "text/x-python",
   "name": "python",
   "nbconvert_exporter": "python",
   "pygments_lexer": "ipython3",
   "version": "3.6.3"
  }
 },
 "nbformat": 4,
 "nbformat_minor": 2
}
